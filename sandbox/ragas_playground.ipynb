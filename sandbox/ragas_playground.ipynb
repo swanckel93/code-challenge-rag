{
 "cells": [
  {
   "cell_type": "markdown",
   "metadata": {},
   "source": [
    "# Understand how to work with RAGAS"
   ]
  },
  {
   "cell_type": "code",
   "execution_count": 1,
   "metadata": {},
   "outputs": [],
   "source": [
    "import ragas"
   ]
  },
  {
   "cell_type": "markdown",
   "metadata": {},
   "source": [
    "## Sample Code: Very structured!"
   ]
  },
  {
   "cell_type": "code",
   "execution_count": 2,
   "metadata": {},
   "outputs": [],
   "source": [
    "from ragas.prompt import PydanticPrompt\n",
    "from pydantic import BaseModel, Field\n",
    "\n",
    "class MyInput(BaseModel):\n",
    "    question: str = Field(description=\"The question to answer\")\n",
    "\n",
    "class MyOutput(BaseModel):\n",
    "    answer: str = Field(description=\"The answer to the question\")\n",
    "\n",
    "class MyPrompt(PydanticPrompt[MyInput,MyOutput]):\n",
    "    instruction = \"Answer the given question\"\n",
    "    input_model = MyInput\n",
    "    output_model = MyOutput\n",
    "    examples = [\n",
    "        (\n",
    "            MyInput(question=\"Who's building the opensource standard for LLM app evals?\"),\n",
    "            MyOutput(answer=\"Ragas\")\n",
    "        )\n",
    "    ]"
   ]
  },
  {
   "cell_type": "markdown",
   "metadata": {},
   "source": [
    "## 1. Evaluation with non-LLM metric: Doesnt work too well."
   ]
  },
  {
   "cell_type": "code",
   "execution_count": null,
   "metadata": {},
   "outputs": [
    {
     "data": {
      "text/plain": [
       "0.13718598426177148"
      ]
     },
     "execution_count": 3,
     "metadata": {},
     "output_type": "execute_result"
    }
   ],
   "source": [
    "from ragas import SingleTurnSample\n",
    "from ragas.metrics import BleuScore\n",
    "\n",
    "test_data = {\n",
    "    \"user_input\": \"summarise given text\\nThe company reported an 8% rise in Q3 2024, driven by strong performance in the Asian market. Sales in this region have significantly contributed to the overall growth. Analysts attribute this success to strategic marketing and product localization. The positive trend in the Asian market is expected to continue into the next quarter.\",\n",
    "    \"response\": \"The company experienced an 8% increase in Q3 2024, largely due to effective marketing strategies and product adaptation, with expectations of continued growth in the coming quarter.\",\n",
    "    \"reference\": \"The company reported an 8% growth in Q3 2024, primarily driven by strong sales in the Asian market, attributed to strategic marketing and localized products, with continued growth anticipated in the next quarter.\"\n",
    "}\n",
    "metric = BleuScore()\n",
    "test_data = SingleTurnSample(**test_data)\n",
    "metric.single_turn_score(test_data)"
   ]
  },
  {
   "cell_type": "markdown",
   "metadata": {},
   "source": [
    "Better if one uses LLM Metrics. "
   ]
  },
  {
   "cell_type": "code",
   "execution_count": 4,
   "metadata": {},
   "outputs": [],
   "source": [
    "from dotenv import load_dotenv\n",
    "import os\n",
    "class OPENAIKeyNotFoundError(Exception):\n",
    "    pass\n",
    "load_dotenv()\n",
    "if \"OPENAI_API_KEY\" not in os.environ:\n",
    "    raise OPENAIKeyNotFoundError(\"OpenAI API Key not found in environment variables\")\n",
    "if \"SOURCE_DOCS_DIR\" not in os.environ:\n",
    "    raise ValueError(\"SOURCE_DOCS_DIR not found in environment variables\")"
   ]
  },
  {
   "cell_type": "markdown",
   "metadata": {},
   "source": [
    "Wrap LLM in LangchainLLMWrapper"
   ]
  },
  {
   "cell_type": "code",
   "execution_count": 5,
   "metadata": {},
   "outputs": [],
   "source": [
    "from ragas.llms import LangchainLLMWrapper\n",
    "from ragas.embeddings import LangchainEmbeddingsWrapper\n",
    "from langchain_openai import ChatOpenAI\n",
    "from langchain_openai import OpenAIEmbeddings\n",
    "evaluator_llm = LangchainLLMWrapper(ChatOpenAI(model=\"gpt-4o\"))\n",
    "evaluator_embeddings = LangchainEmbeddingsWrapper(OpenAIEmbeddings())"
   ]
  },
  {
   "cell_type": "markdown",
   "metadata": {},
   "source": [
    "2. Evaluation with Aspect Critic (LLM metric)"
   ]
  },
  {
   "cell_type": "code",
   "execution_count": 6,
   "metadata": {},
   "outputs": [
    {
     "data": {
      "text/plain": [
       "1"
      ]
     },
     "execution_count": 6,
     "metadata": {},
     "output_type": "execute_result"
    }
   ],
   "source": [
    "from ragas import SingleTurnSample\n",
    "from ragas.metrics import AspectCritic\n",
    "\n",
    "test_data = {\n",
    "    \"user_input\": \"summarise given text\\nThe company reported an 8% rise in Q3 2024, driven by strong performance in the Asian market. Sales in this region have significantly contributed to the overall growth. Analysts attribute this success to strategic marketing and product localization. The positive trend in the Asian market is expected to continue into the next quarter.\",\n",
    "    \"response\": \"The company experienced an 8% increase in Q3 2024, largely due to effective marketing strategies and product adaptation, with expectations of continued growth in the coming quarter.\",\n",
    "}\n",
    "\n",
    "metric = AspectCritic(name=\"summary_accuracy\",llm=evaluator_llm, definition=\"Verify if the summary is accurate.\")\n",
    "test_data = SingleTurnSample(**test_data)\n",
    "await metric.single_turn_ascore(test_data)"
   ]
  },
  {
   "cell_type": "markdown",
   "metadata": {},
   "source": [
    "## Applying Retrieval to Our Use Case: Question 3  \n",
    "\n",
    "### Question:  \n",
    "**\"Zitiere die genauen Anforderungen für die Bewerbung nach der Bewertungsmatrix?\"**  \n",
    "\n",
    "While this question is highly specific, it does not explicitly request the field **\"Kriteriengewichtung\"**.  \n",
    "\n",
    "### Observations:  \n",
    "- Each requirement has a corresponding **criteria weight** assigned to it.  \n",
    "- Our agent has been able to **retrieve the requirements accurately (for the most part)**.  \n",
    "- However, the **attribution of requirements to their corresponding criteria weightings was missing**.  \n",
    "- When extending the query with the phrase **\"include the corresponding criteria weighting\"**, the agent **assigned incorrect values**.  \n",
    "\n",
    "### Hypothesis:  \n",
    "The incorrect attribution of weighting values is likely due to the **tabular structure** of the PDF file.  \n",
    "- The **_unstructured_ PDF loader** we are currently using **may not be suitable** for handling tabular data.  \n",
    "- To improve retrieval accuracy, we will experiment with **alternative PDF loaders** and evaluate their performance in extracting both requirements and their corresponding criteria weightings correctly.  \n"
   ]
  },
  {
   "cell_type": "code",
   "execution_count": 7,
   "metadata": {},
   "outputs": [],
   "source": [
    "from langchain_community.document_loaders import TextLoader, UnstructuredPDFLoader\n",
    "from pathlib import Path\n",
    "source_path = Path.cwd().parent / Path(os.getenv(\"SOURCE_DOCS_DIR\")) / \"A_Bewertungsmatrix.pdf\" #type: ignore\n",
    "loader = UnstructuredPDFLoader(source_path)\n",
    "docs = loader.load()\n"
   ]
  },
  {
   "cell_type": "code",
   "execution_count": 8,
   "metadata": {},
   "outputs": [
    {
     "name": "stdout",
     "output_type": "stream",
     "text": [
      "{'id': None,\n",
      " 'metadata': {'source': '/home/swanckel/projects/pdfchat_rag/source_docs/A_Bewertungsmatrix.pdf'},\n",
      " 'page_content': '301-23-45ind-30052\\n'\n",
      "                 '\\n'\n",
      "                 'REZ NRW 45ind JC Dortmund\\n'\n",
      "                 '\\n'\n",
      "                 'Bewertungsmatrix\\n'\n",
      "                 '\\n'\n",
      "                 'Nr.\\n'\n",
      "                 '\\n'\n",
      "                 'Antwort\\n'\n",
      "                 '\\n'\n",
      "                 'I\\n'\n",
      "                 '\\n'\n",
      "                 'I.1\\n'\n",
      "                 '\\n'\n",
      "                 'Auftragsbezogene Zusammenarbeit auf dem regionalen '\n",
      "                 'Ausbildungs- und Arbeitsmarkt Auftragsbezogene '\n",
      "                 'Zusammenarbeit Benennen Sie die für die Maßnahmedurchführung '\n",
      "                 're-levanten regionalen Akteure (Bezeichnung und Ort) und '\n",
      "                 'beschreiben Sie Art und Umfang der Zusammenarbeit ab '\n",
      "                 'Maßnahmebeginn unter Berücksichtigung der Zielsetzung und '\n",
      "                 'Zielgruppe der konkreten Maßnahme.\\n'\n",
      "                 '\\n'\n",
      "                 'II\\n'\n",
      "                 '\\n'\n",
      "                 'Teilnahmebezogene Vorgehensweise\\n'\n",
      "                 '\\n'\n",
      "                 'II.1\\n'\n",
      "                 '\\n'\n",
      "                 'Anbahnungsphase Beschreiben Sie anhand eines konkreten '\n",
      "                 'Beispiels, wie das Halten bzw. Wiederherzustellen des '\n",
      "                 'Kontaktes und das Schaffen einer Vertrauensbasis zu einer '\n",
      "                 'Person, die den Kontakt zur Integrationsfachkraft '\n",
      "                 'abgebrochen hat und nicht auf Einladungen reagiert, erfolgen '\n",
      "                 'soll. Gehen Sie dabei auch auf mögliche innovative Ansätze '\n",
      "                 'zur Kontaktaufnahme ein.\\n'\n",
      "                 '\\n'\n",
      "                 'II.2\\n'\n",
      "                 '\\n'\n",
      "                 'Akutphase Beschreiben Sie beispielhaft die Akutphase für '\n",
      "                 'eine teilnehmende Person mit einer akuten Drogenproblematik '\n",
      "                 'bei der zudem finanzielle Rückstände bei der Krankenkasse '\n",
      "                 'bestehen.\\n'\n",
      "                 '\\n'\n",
      "                 'II.3\\n'\n",
      "                 '\\n'\n",
      "                 'Coachingphase Zu beschreiben ist die strategische und '\n",
      "                 'methodische Vorgehensweise zur Aktivierung der Teilnehmenden '\n",
      "                 'und Heranführung an den Arbeitsmarkt. Stellen Sie '\n",
      "                 'exemplarisch den Verlauf der Coachingphase für eine '\n",
      "                 'teilnehmende Person dieser Maßnahme dar. Berücksichtigen Sie '\n",
      "                 'bei Ihrer Darstellung die Inhalte unter B.2.3.\\n'\n",
      "                 '\\n'\n",
      "                 'III\\n'\n",
      "                 '\\n'\n",
      "                 'Personal\\n'\n",
      "                 '\\n'\n",
      "                 'Offenes Verfahren\\n'\n",
      "                 '\\n'\n",
      "                 'Kriteriengewicht ung 10 GP\\n'\n",
      "                 '\\n'\n",
      "                 '2 GP\\n'\n",
      "                 '\\n'\n",
      "                 '45 GP\\n'\n",
      "                 '\\n'\n",
      "                 '3 GP\\n'\n",
      "                 '\\n'\n",
      "                 '3 GP\\n'\n",
      "                 '\\n'\n",
      "                 '3 GP\\n'\n",
      "                 '\\n'\n",
      "                 '15 GP\\n'\n",
      "                 '\\n'\n",
      "                 'Seite 1 von 2\\n'\n",
      "                 '\\n'\n",
      "                 '301-23-45ind-30052\\n'\n",
      "                 '\\n'\n",
      "                 'REZ NRW 45ind JC Dortmund\\n'\n",
      "                 '\\n'\n",
      "                 'Nr.\\n'\n",
      "                 '\\n'\n",
      "                 'Antwort\\n'\n",
      "                 '\\n'\n",
      "                 'III.1\\n'\n",
      "                 '\\n'\n",
      "                 'Personaleinsatz Stellen Sie ihr Qualitätsmanagement bezogen '\n",
      "                 'auf das eingesetzte Personal dar. Führen Sie aus, wie Sie '\n",
      "                 'sicherstellen, dass das Personal die Maßnahme nach '\n",
      "                 'verbindlichen Qualitätskriterien durchführt. Erläutern Sie '\n",
      "                 'dabei das Zusammenwirken des in der Maßnahme eingesetzten '\n",
      "                 'Personals. Schildern Sie, wie Sie mit dem eingesetzten '\n",
      "                 'Personal die Zielsetzung der Maßnahme gemäß B.1.1 sowie die '\n",
      "                 'vorgegebene Kontaktdichte realisieren wollen. '\n",
      "                 'Berücksichtigen Sie dabei Ihre Gesamtstrategie zur '\n",
      "                 'Leistungserbringung sowie die Zusammenarbeit mit dem '\n",
      "                 'Bedarfsträger.\\n'\n",
      "                 '\\n'\n",
      "                 'IV\\n'\n",
      "                 '\\n'\n",
      "                 'Organisation\\n'\n",
      "                 '\\n'\n",
      "                 'IV.1\\n'\n",
      "                 '\\n'\n",
      "                 'Exemplarischer Maßnahmeverlauf Stellen Sie exemplarisch den '\n",
      "                 'Verlauf der Maßnahme für eine teilnehmende Person einer '\n",
      "                 'Maßnahme lt. Leistungsverzeichnis/Losblatt mit, -anhaltende '\n",
      "                 'psychische Auffälligkeiten -Alkoholkonsum '\n",
      "                 '-Schuldenproblematik dar, der ein Wohnungsverlust wegen '\n",
      "                 'Mietschulden droht. Erläutern und begründen Sie das von '\n",
      "                 'Ihnen gewählte methodische Vorgehen. Gehen Sie weiterhin '\n",
      "                 'davon aus, dass die beispielhaft dargestellte teilnehmende '\n",
      "                 'Person alle Maßnahmephasen gem. B.2 der '\n",
      "                 'Leistungsbeschreibung durchläuft.\\n'\n",
      "                 '\\n'\n",
      "                 'Offenes Verfahren\\n'\n",
      "                 '\\n'\n",
      "                 'Kriteriengewicht ung 3 GP\\n'\n",
      "                 '\\n'\n",
      "                 '30 GP\\n'\n",
      "                 '\\n'\n",
      "                 '4 GP\\n'\n",
      "                 '\\n'\n",
      "                 'Seite 2 von 2',\n",
      " 'type': 'Document'}\n"
     ]
    }
   ],
   "source": [
    "from pprint import pprint\n",
    "pprint(vars(docs[0]))\n",
    "document = docs.pop()"
   ]
  },
  {
   "cell_type": "markdown",
   "metadata": {},
   "source": [
    "# Test that Ragas Works as expected. \n",
    "### Lets construct ground truths and expect an accuracy score of 1"
   ]
  },
  {
   "cell_type": "code",
   "execution_count": 9,
   "metadata": {},
   "outputs": [],
   "source": [
    "ORIGINAL_QUESTION = \"Zitiere die genauen Anforderungen für die Bewerbung nach der Bewertungsmatrix?\"\n",
    "template = \"\"\"\n",
    "You are a chatbot that helps with answering questions. \n",
    "You shall answer the questions only on the context provided.\n",
    "Avoid providing answers that are not relevant to the context.\n",
    "Avoid providing answers that are not relevant to the question.\n",
    "Answer the question in the language of the question.\n",
    "\n",
    "Answer given the following context:\n",
    "{context}\n",
    "\n",
    "Question: {question}\n",
    "\"\"\""
   ]
  },
  {
   "cell_type": "code",
   "execution_count": 10,
   "metadata": {},
   "outputs": [],
   "source": [
    "from pydantic import BaseModel, Field\n",
    "class TestSample(BaseModel):\n",
    "    user_input: str = Field(description=\"Question, context and possible template\")\n",
    "    response: str = Field(description=\"The answer to the question\")\n"
   ]
  },
  {
   "cell_type": "code",
   "execution_count": 11,
   "metadata": {},
   "outputs": [],
   "source": [
    "_dataset = []\n",
    "_dataset.append(TestSample(user_input=template.format(context=document.page_content, question=ORIGINAL_QUESTION), response=\n",
    "\"\"\"\n",
    "Die genauen Anforderungen für die Bewerbung nach der Bewertungsmatrix sind:\n",
    "\n",
    "I. Auftragsbezogene Zusammenarbeit auf dem regionalen Ausbildungs- und Arbeitsmarkt\n",
    "I.1 Benennen Sie die für die Maßnahmedurchführung relevanten regionalen Akteure (Bezeichnung und Ort) und beschreiben Sie Art und Umfang der Zusammenarbeit ab Maßnahmebeginn unter Berücksichtigung der Zielsetzung und Zielgruppe der konkreten Maßnahme.\n",
    "\n",
    "II. Teilnahmebezogene Vorgehensweise\n",
    "II.1 Anbahnungsphase\n",
    "Beschreiben Sie anhand eines konkreten Beispiels, wie das Halten bzw. Wiederherstellen des Kontaktes und das Schaffen einer Vertrauensbasis zu einer Person, die den Kontakt zur Integrationsfachkraft abgebrochen hat und nicht auf Einladungen reagiert, erfolgen soll. Gehen Sie dabei auch auf mögliche innovative Ansätze zur Kontaktaufnahme ein.\n",
    "II.2 Akutphase\n",
    "Beschreiben Sie beispielhaft die Akutphase für eine teilnehmende Person mit einer akuten Drogenproblematik bei der zudem finanzielle Rückstände bei der Krankenkasse bestehen.\n",
    "II.3 Coachingphase\n",
    "Zu beschreiben ist die strategische und methodische Vorgehensweise zur Aktivierung der Teilnehmenden und Heranführung an den Arbeitsmarkt. Stellen Sie exemplarisch den Verlauf der Coachingphase für eine teilnehmende Person dieser Maßnahme dar. Berücksichtigen Sie bei Ihrer Darstellung die Inhalte unter B.2.3.\n",
    "\n",
    "III. Personal\n",
    "III.1 Personaleinsatz\n",
    "Stellen Sie ihr Qualitätsmanagement bezogen auf das eingesetzte Personal dar. Führen Sie aus, wie Sie sicherstellen, dass das Personal die Maßnahme nach verbindlichen Qualitätskriterien durchführt. Erläutern Sie dabei das Zusammenwirken des in der Maßnahme eingesetzten Personals. Schildern Sie, wie Sie mit dem eingesetzten Personal die Zielsetzung der Maßnahme gemäß B.1.1 sowie die vorgegebene Kontaktdichte realisieren wollen. Berücksichtigen Sie dabei Ihre Gesamtstrategie zur Leistungserbringung sowie die Zusammenarbeit mit dem Bedarfsträger.\n",
    "\n",
    "IV. Organisation\n",
    "IV.1 Exemplarischer Maßnahmeverlauf\n",
    "Stellen Sie exemplarisch den Verlauf der Maßnahme für eine teilnehmende Person einer Maßnahme lt. Leistungsverzeichnis/Losblatt mit, -anhaltende psychische Auffälligkeiten -Alkoholkonsum -Schuldenproblematik dar, der ein Wohnungsverlust wegen Mietschulden droht. Erläutern und begründen Sie das von Ihnen gewählte methodische Vorgehen.\"\"\"\n",
    ").model_dump())"
   ]
  },
  {
   "cell_type": "code",
   "execution_count": 12,
   "metadata": {},
   "outputs": [
    {
     "data": {
      "text/plain": [
       "{'user_input': '\\nYou are a chatbot that helps with answering questions. \\nYou shall answer the questions only on the context provided.\\nAvoid providing answers that are not relevant to the context.\\nAvoid providing answers that are not relevant to the question.\\nAnswer the question in the language of the question.\\n\\nAnswer given the following context:\\n301-23-45ind-30052\\n\\nREZ NRW 45ind JC Dortmund\\n\\nBewertungsmatrix\\n\\nNr.\\n\\nAntwort\\n\\nI\\n\\nI.1\\n\\nAuftragsbezogene Zusammenarbeit auf dem regionalen Ausbildungs- und Arbeitsmarkt Auftragsbezogene Zusammenarbeit Benennen Sie die für die Maßnahmedurchführung re-levanten regionalen Akteure (Bezeichnung und Ort) und beschreiben Sie Art und Umfang der Zusammenarbeit ab Maßnahmebeginn unter Berücksichtigung der Zielsetzung und Zielgruppe der konkreten Maßnahme.\\n\\nII\\n\\nTeilnahmebezogene Vorgehensweise\\n\\nII.1\\n\\nAnbahnungsphase Beschreiben Sie anhand eines konkreten Beispiels, wie das Halten bzw. Wiederherzustellen des Kontaktes und das Schaffen einer Vertrauensbasis zu einer Person, die den Kontakt zur Integrationsfachkraft abgebrochen hat und nicht auf Einladungen reagiert, erfolgen soll. Gehen Sie dabei auch auf mögliche innovative Ansätze zur Kontaktaufnahme ein.\\n\\nII.2\\n\\nAkutphase Beschreiben Sie beispielhaft die Akutphase für eine teilnehmende Person mit einer akuten Drogenproblematik bei der zudem finanzielle Rückstände bei der Krankenkasse bestehen.\\n\\nII.3\\n\\nCoachingphase Zu beschreiben ist die strategische und methodische Vorgehensweise zur Aktivierung der Teilnehmenden und Heranführung an den Arbeitsmarkt. Stellen Sie exemplarisch den Verlauf der Coachingphase für eine teilnehmende Person dieser Maßnahme dar. Berücksichtigen Sie bei Ihrer Darstellung die Inhalte unter B.2.3.\\n\\nIII\\n\\nPersonal\\n\\nOffenes Verfahren\\n\\nKriteriengewicht ung 10 GP\\n\\n2 GP\\n\\n45 GP\\n\\n3 GP\\n\\n3 GP\\n\\n3 GP\\n\\n15 GP\\n\\nSeite 1 von 2\\n\\n301-23-45ind-30052\\n\\nREZ NRW 45ind JC Dortmund\\n\\nNr.\\n\\nAntwort\\n\\nIII.1\\n\\nPersonaleinsatz Stellen Sie ihr Qualitätsmanagement bezogen auf das eingesetzte Personal dar. Führen Sie aus, wie Sie sicherstellen, dass das Personal die Maßnahme nach verbindlichen Qualitätskriterien durchführt. Erläutern Sie dabei das Zusammenwirken des in der Maßnahme eingesetzten Personals. Schildern Sie, wie Sie mit dem eingesetzten Personal die Zielsetzung der Maßnahme gemäß B.1.1 sowie die vorgegebene Kontaktdichte realisieren wollen. Berücksichtigen Sie dabei Ihre Gesamtstrategie zur Leistungserbringung sowie die Zusammenarbeit mit dem Bedarfsträger.\\n\\nIV\\n\\nOrganisation\\n\\nIV.1\\n\\nExemplarischer Maßnahmeverlauf Stellen Sie exemplarisch den Verlauf der Maßnahme für eine teilnehmende Person einer Maßnahme lt. Leistungsverzeichnis/Losblatt mit, -anhaltende psychische Auffälligkeiten -Alkoholkonsum -Schuldenproblematik dar, der ein Wohnungsverlust wegen Mietschulden droht. Erläutern und begründen Sie das von Ihnen gewählte methodische Vorgehen. Gehen Sie weiterhin davon aus, dass die beispielhaft dargestellte teilnehmende Person alle Maßnahmephasen gem. B.2 der Leistungsbeschreibung durchläuft.\\n\\nOffenes Verfahren\\n\\nKriteriengewicht ung 3 GP\\n\\n30 GP\\n\\n4 GP\\n\\nSeite 2 von 2\\n\\nQuestion: Zitiere die genauen Anforderungen für die Bewerbung nach der Bewertungsmatrix?\\n',\n",
       " 'response': '\\nDie genauen Anforderungen für die Bewerbung nach der Bewertungsmatrix sind:\\n\\nI. Auftragsbezogene Zusammenarbeit auf dem regionalen Ausbildungs- und Arbeitsmarkt\\nI.1 Benennen Sie die für die Maßnahmedurchführung relevanten regionalen Akteure (Bezeichnung und Ort) und beschreiben Sie Art und Umfang der Zusammenarbeit ab Maßnahmebeginn unter Berücksichtigung der Zielsetzung und Zielgruppe der konkreten Maßnahme.\\n\\nII. Teilnahmebezogene Vorgehensweise\\nII.1 Anbahnungsphase\\nBeschreiben Sie anhand eines konkreten Beispiels, wie das Halten bzw. Wiederherstellen des Kontaktes und das Schaffen einer Vertrauensbasis zu einer Person, die den Kontakt zur Integrationsfachkraft abgebrochen hat und nicht auf Einladungen reagiert, erfolgen soll. Gehen Sie dabei auch auf mögliche innovative Ansätze zur Kontaktaufnahme ein.\\nII.2 Akutphase\\nBeschreiben Sie beispielhaft die Akutphase für eine teilnehmende Person mit einer akuten Drogenproblematik bei der zudem finanzielle Rückstände bei der Krankenkasse bestehen.\\nII.3 Coachingphase\\nZu beschreiben ist die strategische und methodische Vorgehensweise zur Aktivierung der Teilnehmenden und Heranführung an den Arbeitsmarkt. Stellen Sie exemplarisch den Verlauf der Coachingphase für eine teilnehmende Person dieser Maßnahme dar. Berücksichtigen Sie bei Ihrer Darstellung die Inhalte unter B.2.3.\\n\\nIII. Personal\\nIII.1 Personaleinsatz\\nStellen Sie ihr Qualitätsmanagement bezogen auf das eingesetzte Personal dar. Führen Sie aus, wie Sie sicherstellen, dass das Personal die Maßnahme nach verbindlichen Qualitätskriterien durchführt. Erläutern Sie dabei das Zusammenwirken des in der Maßnahme eingesetzten Personals. Schildern Sie, wie Sie mit dem eingesetzten Personal die Zielsetzung der Maßnahme gemäß B.1.1 sowie die vorgegebene Kontaktdichte realisieren wollen. Berücksichtigen Sie dabei Ihre Gesamtstrategie zur Leistungserbringung sowie die Zusammenarbeit mit dem Bedarfsträger.\\n\\nIV. Organisation\\nIV.1 Exemplarischer Maßnahmeverlauf\\nStellen Sie exemplarisch den Verlauf der Maßnahme für eine teilnehmende Person einer Maßnahme lt. Leistungsverzeichnis/Losblatt mit, -anhaltende psychische Auffälligkeiten -Alkoholkonsum -Schuldenproblematik dar, der ein Wohnungsverlust wegen Mietschulden droht. Erläutern und begründen Sie das von Ihnen gewählte methodische Vorgehen.'}"
      ]
     },
     "execution_count": 12,
     "metadata": {},
     "output_type": "execute_result"
    }
   ],
   "source": [
    "TestSample(user_input=template.format(context=document.page_content, question=ORIGINAL_QUESTION), response=\n",
    "\"\"\"\n",
    "Die genauen Anforderungen für die Bewerbung nach der Bewertungsmatrix sind:\n",
    "\n",
    "I. Auftragsbezogene Zusammenarbeit auf dem regionalen Ausbildungs- und Arbeitsmarkt\n",
    "I.1 Benennen Sie die für die Maßnahmedurchführung relevanten regionalen Akteure (Bezeichnung und Ort) und beschreiben Sie Art und Umfang der Zusammenarbeit ab Maßnahmebeginn unter Berücksichtigung der Zielsetzung und Zielgruppe der konkreten Maßnahme.\n",
    "\n",
    "II. Teilnahmebezogene Vorgehensweise\n",
    "II.1 Anbahnungsphase\n",
    "Beschreiben Sie anhand eines konkreten Beispiels, wie das Halten bzw. Wiederherstellen des Kontaktes und das Schaffen einer Vertrauensbasis zu einer Person, die den Kontakt zur Integrationsfachkraft abgebrochen hat und nicht auf Einladungen reagiert, erfolgen soll. Gehen Sie dabei auch auf mögliche innovative Ansätze zur Kontaktaufnahme ein.\n",
    "II.2 Akutphase\n",
    "Beschreiben Sie beispielhaft die Akutphase für eine teilnehmende Person mit einer akuten Drogenproblematik bei der zudem finanzielle Rückstände bei der Krankenkasse bestehen.\n",
    "II.3 Coachingphase\n",
    "Zu beschreiben ist die strategische und methodische Vorgehensweise zur Aktivierung der Teilnehmenden und Heranführung an den Arbeitsmarkt. Stellen Sie exemplarisch den Verlauf der Coachingphase für eine teilnehmende Person dieser Maßnahme dar. Berücksichtigen Sie bei Ihrer Darstellung die Inhalte unter B.2.3.\n",
    "\n",
    "III. Personal\n",
    "III.1 Personaleinsatz\n",
    "Stellen Sie ihr Qualitätsmanagement bezogen auf das eingesetzte Personal dar. Führen Sie aus, wie Sie sicherstellen, dass das Personal die Maßnahme nach verbindlichen Qualitätskriterien durchführt. Erläutern Sie dabei das Zusammenwirken des in der Maßnahme eingesetzten Personals. Schildern Sie, wie Sie mit dem eingesetzten Personal die Zielsetzung der Maßnahme gemäß B.1.1 sowie die vorgegebene Kontaktdichte realisieren wollen. Berücksichtigen Sie dabei Ihre Gesamtstrategie zur Leistungserbringung sowie die Zusammenarbeit mit dem Bedarfsträger.\n",
    "\n",
    "IV. Organisation\n",
    "IV.1 Exemplarischer Maßnahmeverlauf\n",
    "Stellen Sie exemplarisch den Verlauf der Maßnahme für eine teilnehmende Person einer Maßnahme lt. Leistungsverzeichnis/Losblatt mit, -anhaltende psychische Auffälligkeiten -Alkoholkonsum -Schuldenproblematik dar, der ein Wohnungsverlust wegen Mietschulden droht. Erläutern und begründen Sie das von Ihnen gewählte methodische Vorgehen.\"\"\"\n",
    ").model_dump()"
   ]
  },
  {
   "cell_type": "code",
   "execution_count": 13,
   "metadata": {},
   "outputs": [],
   "source": [
    "from ragas import EvaluationDataset\n",
    "eval_dataset = EvaluationDataset.from_list(_dataset)"
   ]
  },
  {
   "cell_type": "code",
   "execution_count": 14,
   "metadata": {},
   "outputs": [
    {
     "name": "stdout",
     "output_type": "stream",
     "text": [
      "Features in dataset: ['user_input', 'response']\n",
      "Total samples in dataset: 1\n"
     ]
    }
   ],
   "source": [
    "print(\"Features in dataset:\", eval_dataset.features())\n",
    "print(\"Total samples in dataset:\", len(eval_dataset))\n",
    "\n"
   ]
  },
  {
   "cell_type": "code",
   "execution_count": 15,
   "metadata": {},
   "outputs": [
    {
     "data": {
      "application/vnd.jupyter.widget-view+json": {
       "model_id": "299ceb1407094ec1a737ed3abcec5eac",
       "version_major": 2,
       "version_minor": 0
      },
      "text/plain": [
       "Evaluating:   0%|          | 0/1 [00:00<?, ?it/s]"
      ]
     },
     "metadata": {},
     "output_type": "display_data"
    },
    {
     "data": {
      "text/plain": [
       "{'summary_accuracy': 1.0000}"
      ]
     },
     "execution_count": 15,
     "metadata": {},
     "output_type": "execute_result"
    }
   ],
   "source": [
    "from ragas import evaluate\n",
    "results = evaluate(eval_dataset, metrics=[metric])\n",
    "results"
   ]
  },
  {
   "cell_type": "code",
   "execution_count": 16,
   "metadata": {},
   "outputs": [],
   "source": [
    "weightings= {\"Auftragsbezogene Zusammenarbeit auf dem regionalen Ausbildungs- und Arbeitsmarkt\": \"10\",\n",
    "               \"Auftragsbezogene Zusammenarbeit\": \"2\",\n",
    "               \"Teilnahmebezogene Vorgehensweise\":\"45\",\n",
    "               \"Anbahnungsphase\":\"3\",\n",
    "               \"Akutphase\":\"3\",\n",
    "               \"Coachingphase\":\"3\",\n",
    "               \"Personal\":\"15\",\n",
    "               \"Personaleinsatz\": \"3\",\n",
    "               \"Organisation\":\"30\",\n",
    "               \"Exemplarischer Maßnahmeverlauf\":\"4\",\n",
    "}\n",
    "weighting_factor_template = \"Nenne mir die Kriteriengewichtung für {requirement}\"\n",
    "weight_factor_response = \"Die Kriteriengewichtung für {requirement} beträgt {weighting_factor} GP.\"\n",
    "for key,value in weightings.items():\n",
    "    \n",
    "    _dataset.append(TestSample(\n",
    "        user_input=template.format(\n",
    "            context=document.page_content, \n",
    "            question=weighting_factor_template.format(\n",
    "                requirement=key)), \n",
    "        response=weight_factor_response.format(\n",
    "            requirement=key, \n",
    "            weighting_factor=value))\n",
    "    .model_dump()\n",
    "    )"
   ]
  },
  {
   "cell_type": "code",
   "execution_count": 17,
   "metadata": {},
   "outputs": [
    {
     "name": "stdout",
     "output_type": "stream",
     "text": [
      "Features in dataset: ['user_input', 'response']\n",
      "Total samples in dataset: 11\n"
     ]
    }
   ],
   "source": [
    "eval_dataset = EvaluationDataset.from_list(_dataset)\n",
    "print(\"Features in dataset:\", eval_dataset.features())\n",
    "print(\"Total samples in dataset:\", len(eval_dataset))"
   ]
  },
  {
   "cell_type": "code",
   "execution_count": 18,
   "metadata": {},
   "outputs": [
    {
     "data": {
      "application/vnd.jupyter.widget-view+json": {
       "model_id": "42f1579634554fb2acf3a6ec14ca7478",
       "version_major": 2,
       "version_minor": 0
      },
      "text/plain": [
       "Evaluating:   0%|          | 0/11 [00:00<?, ?it/s]"
      ]
     },
     "metadata": {},
     "output_type": "display_data"
    },
    {
     "data": {
      "text/plain": [
       "{'summary_accuracy': 1.0000}"
      ]
     },
     "execution_count": 18,
     "metadata": {},
     "output_type": "execute_result"
    }
   ],
   "source": [
    "from ragas import evaluate\n",
    "results = evaluate(eval_dataset, metrics=[metric])\n",
    "results"
   ]
  },
  {
   "cell_type": "code",
   "execution_count": 19,
   "metadata": {},
   "outputs": [
    {
     "data": {
      "text/html": [
       "<div>\n",
       "<style scoped>\n",
       "    .dataframe tbody tr th:only-of-type {\n",
       "        vertical-align: middle;\n",
       "    }\n",
       "\n",
       "    .dataframe tbody tr th {\n",
       "        vertical-align: top;\n",
       "    }\n",
       "\n",
       "    .dataframe thead th {\n",
       "        text-align: right;\n",
       "    }\n",
       "</style>\n",
       "<table border=\"1\" class=\"dataframe\">\n",
       "  <thead>\n",
       "    <tr style=\"text-align: right;\">\n",
       "      <th></th>\n",
       "      <th>user_input</th>\n",
       "      <th>response</th>\n",
       "      <th>summary_accuracy</th>\n",
       "    </tr>\n",
       "  </thead>\n",
       "  <tbody>\n",
       "    <tr>\n",
       "      <th>0</th>\n",
       "      <td>\\nYou are a chatbot that helps with answering ...</td>\n",
       "      <td>\\nDie genauen Anforderungen für die Bewerbung ...</td>\n",
       "      <td>1</td>\n",
       "    </tr>\n",
       "    <tr>\n",
       "      <th>1</th>\n",
       "      <td>\\nYou are a chatbot that helps with answering ...</td>\n",
       "      <td>Die Kriteriengewichtung für Auftragsbezogene Z...</td>\n",
       "      <td>1</td>\n",
       "    </tr>\n",
       "    <tr>\n",
       "      <th>2</th>\n",
       "      <td>\\nYou are a chatbot that helps with answering ...</td>\n",
       "      <td>Die Kriteriengewichtung für Auftragsbezogene Z...</td>\n",
       "      <td>1</td>\n",
       "    </tr>\n",
       "    <tr>\n",
       "      <th>3</th>\n",
       "      <td>\\nYou are a chatbot that helps with answering ...</td>\n",
       "      <td>Die Kriteriengewichtung für Teilnahmebezogene ...</td>\n",
       "      <td>1</td>\n",
       "    </tr>\n",
       "    <tr>\n",
       "      <th>4</th>\n",
       "      <td>\\nYou are a chatbot that helps with answering ...</td>\n",
       "      <td>Die Kriteriengewichtung für Anbahnungsphase be...</td>\n",
       "      <td>1</td>\n",
       "    </tr>\n",
       "    <tr>\n",
       "      <th>5</th>\n",
       "      <td>\\nYou are a chatbot that helps with answering ...</td>\n",
       "      <td>Die Kriteriengewichtung für Akutphase beträgt ...</td>\n",
       "      <td>1</td>\n",
       "    </tr>\n",
       "    <tr>\n",
       "      <th>6</th>\n",
       "      <td>\\nYou are a chatbot that helps with answering ...</td>\n",
       "      <td>Die Kriteriengewichtung für Coachingphase betr...</td>\n",
       "      <td>1</td>\n",
       "    </tr>\n",
       "    <tr>\n",
       "      <th>7</th>\n",
       "      <td>\\nYou are a chatbot that helps with answering ...</td>\n",
       "      <td>Die Kriteriengewichtung für Personal beträgt 1...</td>\n",
       "      <td>1</td>\n",
       "    </tr>\n",
       "    <tr>\n",
       "      <th>8</th>\n",
       "      <td>\\nYou are a chatbot that helps with answering ...</td>\n",
       "      <td>Die Kriteriengewichtung für Personaleinsatz be...</td>\n",
       "      <td>1</td>\n",
       "    </tr>\n",
       "    <tr>\n",
       "      <th>9</th>\n",
       "      <td>\\nYou are a chatbot that helps with answering ...</td>\n",
       "      <td>Die Kriteriengewichtung für Organisation beträ...</td>\n",
       "      <td>1</td>\n",
       "    </tr>\n",
       "    <tr>\n",
       "      <th>10</th>\n",
       "      <td>\\nYou are a chatbot that helps with answering ...</td>\n",
       "      <td>Die Kriteriengewichtung für Exemplarischer Maß...</td>\n",
       "      <td>1</td>\n",
       "    </tr>\n",
       "  </tbody>\n",
       "</table>\n",
       "</div>"
      ],
      "text/plain": [
       "                                           user_input  \\\n",
       "0   \\nYou are a chatbot that helps with answering ...   \n",
       "1   \\nYou are a chatbot that helps with answering ...   \n",
       "2   \\nYou are a chatbot that helps with answering ...   \n",
       "3   \\nYou are a chatbot that helps with answering ...   \n",
       "4   \\nYou are a chatbot that helps with answering ...   \n",
       "5   \\nYou are a chatbot that helps with answering ...   \n",
       "6   \\nYou are a chatbot that helps with answering ...   \n",
       "7   \\nYou are a chatbot that helps with answering ...   \n",
       "8   \\nYou are a chatbot that helps with answering ...   \n",
       "9   \\nYou are a chatbot that helps with answering ...   \n",
       "10  \\nYou are a chatbot that helps with answering ...   \n",
       "\n",
       "                                             response  summary_accuracy  \n",
       "0   \\nDie genauen Anforderungen für die Bewerbung ...                 1  \n",
       "1   Die Kriteriengewichtung für Auftragsbezogene Z...                 1  \n",
       "2   Die Kriteriengewichtung für Auftragsbezogene Z...                 1  \n",
       "3   Die Kriteriengewichtung für Teilnahmebezogene ...                 1  \n",
       "4   Die Kriteriengewichtung für Anbahnungsphase be...                 1  \n",
       "5   Die Kriteriengewichtung für Akutphase beträgt ...                 1  \n",
       "6   Die Kriteriengewichtung für Coachingphase betr...                 1  \n",
       "7   Die Kriteriengewichtung für Personal beträgt 1...                 1  \n",
       "8   Die Kriteriengewichtung für Personaleinsatz be...                 1  \n",
       "9   Die Kriteriengewichtung für Organisation beträ...                 1  \n",
       "10  Die Kriteriengewichtung für Exemplarischer Maß...                 1  "
      ]
     },
     "execution_count": 19,
     "metadata": {},
     "output_type": "execute_result"
    }
   ],
   "source": [
    "results.to_pandas()\n"
   ]
  },
  {
   "cell_type": "code",
   "execution_count": 20,
   "metadata": {},
   "outputs": [
    {
     "name": "stdout",
     "output_type": "stream",
     "text": [
      "Evaluation results uploaded! View at https://app.ragas.io/dashboard/alignment/evaluation/99658072-6d53-4184-8f4c-492a1ab7e2d8\n"
     ]
    },
    {
     "data": {
      "text/plain": [
       "'https://app.ragas.io/dashboard/alignment/evaluation/99658072-6d53-4184-8f4c-492a1ab7e2d8'"
      ]
     },
     "execution_count": 20,
     "metadata": {},
     "output_type": "execute_result"
    }
   ],
   "source": [
    "results.upload()\n"
   ]
  },
  {
   "cell_type": "markdown",
   "metadata": {},
   "source": [
    "Let's Try it out with our pdfRagChain Now."
   ]
  },
  {
   "cell_type": "markdown",
   "metadata": {},
   "source": [
    "First we need to modify our chain so that the filled out prompt template is returned by the chain invoke"
   ]
  },
  {
   "cell_type": "code",
   "execution_count": 21,
   "metadata": {},
   "outputs": [
    {
     "data": {
      "text/plain": [
       "ChatPromptValue(messages=[HumanMessage(content='\\nYou are a chatbot that helps with answering questions. \\nYou shall answer the questions only on the context provided.\\nAvoid providing answers that are not relevant to the context.\\nAvoid providing answers that are not relevant to the question.\\nAnswer the question in the language of the question.\\n\\nAnswer given the following context:\\n[Document(id=\\'f5dae109-1b2c-44e0-a2ac-133f8a3cd16c\\', metadata={\\'source\\': \\'source_docs/EUBIA.txt\\'}, page_content=\\'Unternehmensdetails:\\\\n\\\\n* Name: EUBIA GmbH (Fort- und Weiterbildung)\\\\n* Schwerpunkt: Fort- und Weiterbildung\\\\n* Zielgruppe: Fachkräfte und Organisationen aus den Bereichen Sozialarbeit, Gesundheitswesen, Pädagogik und angrenzenden Feldern\\\\n* Standort: Bielefeld, Deutschland\\\\n* Adresse: EUBIA GmbH, Am Sparrenberg 8a, 33602 Bielefeld\\\\n* Telefon: 0521 - 55 75 36 0\\\\n* Fax: 0521 - 55 75 36 29\\\\n* E-Mail: [email address removed]\\\\n* Website: www.eubia.de\\\\n* Geschäftsführung: Dipl. Päd.\\'), Document(id=\\'a01059ae-2f18-43a9-b139-f8efe17003d1\\', metadata={\\'source\\': \\'source_docs/EUBIA.txt\\'}, page_content=\\'Ute Hecker-Seifert, Dipl. Päd. Frank Kahle (Stand: 2023, laut Impressum der Website)\\\\n* Registergericht: Amtsgericht Bielefeld, HRB 42242\\\\n* Umsatzsteuer-ID: DE305740720\\\\n* Struktur: Privates, gewinnorientiertes Unternehmen (Gesellschaft mit beschränkter Haftung - GmbH)\\\\n\\\\nProdukt- und Dienstleistungsangebot:\\\\nEUBIA bietet eine Vielzahl von Fortbildungsprogrammen an, darunter:\\\\n\\\\n* Seminare und Workshops: Diese decken ein breites Spektrum an Themen ab, die für die Zielgruppe relevant sind, einschließlich, aber nicht beschränkt auf:\\\\n** Kinderschutz: Wahrscheinlich ein Kernangebot, mit Kursen zur Erkennung, Reaktion auf und Prävention von Kindesmissbrauch und -vernachlässigung. ** Systemische Beratung und Therapie: Schulungen zu systemischen Ansätzen in Therapie und Beratung.\\'), Document(id=\\'0db8a865-cfbb-45e1-a404-20f9d660bb23\\', metadata={\\'source\\': \\'source_docs/EUBIA.txt\\'}, page_content=\\'** Traumapädagogik: Fokussiert auf die Arbeit mit Menschen, insbesondere Kindern, die Traumata erlebt haben. ** Case Management: Schulungen zum Management komplexer Fälle in der Sozialarbeit und verwandten Bereichen. ** Kommunikation und Konfliktlösung: Kompetenzentwicklung für Fachkräfte. ** Rechtliche und ethische Rahmenbedingungen: Kurse zu relevanten rechtlichen und ethischen Richtlinien für Fachkräfte in der Sozialarbeit und im Gesundheitswesen. ** Spezifische Methoden und Interventionen: Kurse zu Methoden wie Marte Meo, einer videobasierten Interaktionsanalysemethode zur Verbesserung von Kommunikation und Beziehungen, und vielen weiteren. * Inhouse-Schulungen: Maßgeschneiderte Fortbildungsprogramme, die auf die spezifischen Bedürfnisse von Organisationen zugeschnitten sind. * Langzeitfortbildungen: Sie bieten einige längerfristige, tiefergehende Fortbildungsprogramme an, die zu Zertifizierungen führen. Dazu scheinen Programme wie \"Systemische Berater\" und \"Kinderschutzfachkräfte\" zu gehören. * Supervision und Coaching: Bieten Supervisions- und Coachingdienste für Einzelpersonen und Teams an. Weitere öffentliche Informationen (abgeleitet von der Website):\\\\n\\\\n* Schwerpunkt auf praktischer Anwendung: Die Fortbildungsprogramme scheinen die Entwicklung praktischer Fähigkeiten und die Anwendung in der realen Welt zu betonen. * Erfahrene Trainer: Die Website hebt die Expertise ihrer Trainer hervor, die wahrscheinlich Fachkräfte mit umfangreicher Erfahrung in ihren jeweiligen Bereichen sind. * Netzwerk von Fachleuten: EUBIA unterhält wahrscheinlich ein Netzwerk von Fachleuten in der Sozialarbeit, im Gesundheitswesen und in der Pädagogik, auf das sie für ihre Fortbildungsprogramme und möglicherweise für Netzwerkmöglichkeiten für die Teilnehmer zurückgreifen. * Qualitätsversprechen: EUBIA bietet eine Struktur für die Qualitätssicherung, die sich an den Richtlinien der LQW (Lernerorientierte Qualitätstestierung in der Weiterbildung) orientiert. Zusammenfassend ist die EUBIA GmbH ein deutscher Fortbildungsanbieter, der sich auf die Weiterbildung von Fachkräften in der Sozialarbeit, im Gesundheitswesen und in der Pädagogik spezialisiert hat. Sie bieten eine breite Palette von Seminaren, Workshops, Inhouse-Schulungen und Zertifizierungsprogrammen an, die sich auf Bereiche wie Kinderschutz, systemische Therapie, Traumapädagogik und Case Management konzentrieren. Das Unternehmen scheint in seinen Bildungsangeboten Wert auf praktische Anwendung, erfahrene Trainer und ein Bekenntnis zur Qualität zu legen. \\'), Document(id=\\'ff1625d1-9080-4bc2-b4de-458c8235d079\\', metadata={\\'source\\': \\'source_docs/A_Allgemeine_Hinweise.pdf\\'}, page_content=\\'m. § 45 I S. 1 SGB III\\\\n\\\\nTeil A Allgemeine Hinweise\\\\n\\\\nEs handelt sich um ein elektronisches Vergabeverfahren. Gemäß § 11 Abs. 3 der Vergabeverordnung (VgV) muss der öffentliche Auftraggeber den Unternehmen alle notwendigen Informationen zur Verfügung stellen über die in einem solchen Vergabeverfahren verwendeten elektronischen Mittel, die technischen Parameter zur Einreichung von Teilnahmeanträgen, Angeboten und Interessensbestätigungen mithilfe elektronischer Mit- tel und verwendete Verschlüsselungs- und Zeiterfassungsverfahren. Diese Informationen stehen auf der e- Vergabe-Plattform des Bundes unter dem Link auf www.evergabe-online.info/vgv11 bereit. Die Vergabeunterlagen werden nur elektronisch über die e-Vergabe-Plattform des Bundes www.evergabe- online.de zur Verfügung gestellt. Die Angebotsabgabe hat ausschließlich über diese Plattform mit der dort bereitgestellten Softwarekomponente „AnA-Web“ zu erfolgen. Der „AnA-Web“ verschlüsselt das Angebot und ermöglicht die elektronische Übersendung an die Angebotsstelle. Erst nach Ablauf der Angebotsfrist wird das Angebot von der Angebotsstelle an die Vergabestelle übergeben. Bieter ist das Unternehmen, das sich als Nutzerin/Nutzer auf der e-Vergabe-Plattform registriert hat und das Angebot auf der e-Vergabe-Plattform abgibt. Bei Bietergemeinschaften muss das Unternehmen, das bevoll- mächtigtes Mitglied der Bietergemeinschaft ist, sich als Nutzerin/Nutzer auf der e-Vergabe-Plattform registriert haben und das Angebot auf der e-Vergabe-Plattform abgeben. Falls das Angebot durch ein anderes, im Auf- tragsfall nicht vertragsbeteiligtes Unternehmen, das sich als Nutzerin/Nutzer auf der e-Vergabe-Plattform re- gistriert hat, über ihr/sein eigenes Benutzerkonto in Vertretung des Bieters oder der Bietergemeinschaft abge- geben wird, ist A.2 zu beachten. A.1 Kontaktstelle, Angebotsabgabe, Fristen\\\\n\\\\nVergabestelle und Kontaktstelle ist das Regionale Einkaufszentrum NRW als Organisationseinheit der BA. Die Angebote gehen an eine von der Vergabestelle unabhängige Angebotsstelle. Dies ist die e-Vergabe- Plattform. Gleiches gilt für etwaige Änderungen, Berichtigungen und Rücknahmen von Angeboten. Die Ange- bote sind ausschließlich elektronisch über die e-Vergabe-Plattform mittels der dort bereitgestellten Software- komponente „AnA-Web“ zu übermitteln. Angebote, die auf anderem Wege als über die e-Vergabe-Plattform wie z.B. per Post, verkehrsüblicher E-Mail usw. zugestellt werden, werden ausgeschlossen. Die jeweils gülti- gen Nutzungsbedingungen der e-Vergabe-Plattform des Bundes (insbesondere die Nutzungsvoraussetzun- gen für Bieter) sind zu beachten. Angebote müssen bis zum Ablauf der Angebotsfrist der vorgenannten Angebotsstelle vollständig übermittelt sein. Mit jedem Versenden mittels des „AnA-Web“ wird ein neues Angebot abgegeben. Nach dem Eingang des Angebotes wird es mit einem elektronischen Zeitstempel versehen. Für die Rechtzeitigkeit des Eingangs ist dieser Zeitstempel maßgebend. Nicht rechtzeitig bei der Angebotsstelle eingegangene Angebote werden ausgeschlossen. Angebote sind in der Datei D.1 nicht mehr mit einer elektronischen Signatur zu versehen. Verlangt ist die elektronische Übermittlung in Textform nach § 126b des Bürgerlichen Gesetzbuches. Danach muss es sich um eine lesbare Erklärung handeln, in der die Person des Erklärenden genannt ist und die auf einem dauer- haften Datenträger gespeichert werden kann. Durch die Übermittlung des Angebotes über den „AnA-Web“ werden diese Anforderungen erfüllt. Für die Bearbeitung der Vergabeunterlagen und die Erstellung des Angebotes wird keine Entschädigung ge- währt. Mit Angebotsabgabe ist der Bieter an sein Angebot gebunden, sofern er es nicht bis zum Ablauf der Ange- botsfrist zurücknimmt. Die Rücknahme von Angeboten ist auf zwei Wegen möglich:\\\\n\\\\nZum einen kann die Rücknahme elektronisch über die e-Vergabe-Plattform mittels des „AnA-Web“ durch die Übermittlung einer Text-Datei an die Vergabestelle erfolgen. Dabei ist die Text-Datei in den „AnA-Web“ zu importieren und von dort über die Seite „Ausschreibung bearbeiten“ mit der Aktion „Vergabestelle kon- taktieren“ zu versenden. Als Dateiformat sind elektronisch allgemein lesbare Formate zu verwenden (z.B. *.txt, *.docx, *.pdf, *.tif etc.). In der Textdatei ist zwingend das Los zu benennen, für welches die Rück- nahme des Angebotes erfolgt. Zum anderen kann die Rücknahme mittels des „AnA-Web“ in der dortigen Ansicht „Meine Ausschreibun- gen – Ausschreibungsübersicht“ mit dem Workflow „Angebot zurückziehen“ erfolgen. Zu beachten ist, dass – sofern mit der Abgabe des Angebotes mehrere Lose in einem Vergabeverfahren beboten worden sind – die Rücknahme in diesem Fall für alle bebotenen Lose erfolgt. Maßgebend für die Rechtzeitigkeit der Rücknahme ist der elektronische Zeitstempel. Stand: 01.01.2023\\\\n\\\\n301-23-45ind-30052\\\\n\\\\nSeite 4 von 13\\\\n\\\\nIndividuelle Maßnahmen zur Aktivierung und beruflichen Eingliederung nach § 16 I SGB II i. V.\\')]\\n\\nQuestion: Erkläre was die Firma EUBIA macht\\n', additional_kwargs={}, response_metadata={})])"
      ]
     },
     "execution_count": 21,
     "metadata": {},
     "output_type": "execute_result"
    }
   ],
   "source": [
    "from app.rag_chain import final_chain\n",
    "load_dotenv()\n",
    "# real_dataset.append(TestSample())\n",
    "response = final_chain.invoke({\"question\":\"Erkläre was die Firma EUBIA macht\",\"collection_name\":\"test1\"})\n",
    "response[\"filled_prompt\"]"
   ]
  },
  {
   "cell_type": "markdown",
   "metadata": {},
   "source": [
    "Great! Now lets build a test dataset and evaluate our rag chain with RAGAS. Let's start simple and add the questions from the Coding Challenge"
   ]
  },
  {
   "cell_type": "code",
   "execution_count": 27,
   "metadata": {},
   "outputs": [],
   "source": [
    "questions = [\"Erkläre was die Firma EUBIA macht\",\n",
    "\"Was ist für die Bewerbung erforderlich? Liste alle Dokumente, Anforderungen und Voraussetzungen.\",\n",
    "\"Zitiere die genauen Anforderungen für die Bewerbung nach der Bewertungsmatrix?\",\n",
    "\"Basierend auf den Anforderungen, erstelle eine Gliederung für die Bewerbung.\",\n",
    "]\n",
    "real_dataset = []\n",
    "for question in questions:\n",
    "    result = final_chain.invoke({\"question\":question,\"collection_name\":\"test1\"})\n",
    "    filled_prompt = result[\"filled_prompt\"]\n",
    "    answer = result[\"answer\"]\n",
    "    real_dataset.append(TestSample(user_input=filled_prompt.messages[0].content, response=answer.content).model_dump())"
   ]
  },
  {
   "cell_type": "code",
   "execution_count": 28,
   "metadata": {},
   "outputs": [
    {
     "data": {
      "application/vnd.jupyter.widget-view+json": {
       "model_id": "c60e0fd853204e25be39118b89966fbb",
       "version_major": 2,
       "version_minor": 0
      },
      "text/plain": [
       "Evaluating:   0%|          | 0/4 [00:00<?, ?it/s]"
      ]
     },
     "metadata": {},
     "output_type": "display_data"
    },
    {
     "name": "stdout",
     "output_type": "stream",
     "text": [
      "Evaluation results uploaded! View at https://app.ragas.io/dashboard/alignment/evaluation/0b7eb8fb-e4e8-461f-9206-a147f69b3a7c\n"
     ]
    },
    {
     "data": {
      "text/plain": [
       "'https://app.ragas.io/dashboard/alignment/evaluation/0b7eb8fb-e4e8-461f-9206-a147f69b3a7c'"
      ]
     },
     "execution_count": 28,
     "metadata": {},
     "output_type": "execute_result"
    }
   ],
   "source": [
    "dataset = EvaluationDataset.from_list(real_dataset)\n",
    "results = evaluate(dataset, metrics=[metric])\n",
    "results.upload()"
   ]
  },
  {
   "cell_type": "code",
   "execution_count": null,
   "metadata": {},
   "outputs": [
    {
     "data": {
      "text/html": [
       "<div>\n",
       "<style scoped>\n",
       "    .dataframe tbody tr th:only-of-type {\n",
       "        vertical-align: middle;\n",
       "    }\n",
       "\n",
       "    .dataframe tbody tr th {\n",
       "        vertical-align: top;\n",
       "    }\n",
       "\n",
       "    .dataframe thead th {\n",
       "        text-align: right;\n",
       "    }\n",
       "</style>\n",
       "<table border=\"1\" class=\"dataframe\">\n",
       "  <thead>\n",
       "    <tr style=\"text-align: right;\">\n",
       "      <th></th>\n",
       "      <th>user_input</th>\n",
       "      <th>response</th>\n",
       "    </tr>\n",
       "  </thead>\n",
       "  <tbody>\n",
       "    <tr>\n",
       "      <th>0</th>\n",
       "      <td>\\nYou are a chatbot that helps with answering ...</td>\n",
       "      <td>Die Firma EUBIA GmbH ist ein deutscher Fortbil...</td>\n",
       "    </tr>\n",
       "    <tr>\n",
       "      <th>1</th>\n",
       "      <td>\\nYou are a chatbot that helps with answering ...</td>\n",
       "      <td>Die Firma EUBIA GmbH ist ein deutscher Fortbil...</td>\n",
       "    </tr>\n",
       "    <tr>\n",
       "      <th>2</th>\n",
       "      <td>\\nYou are a chatbot that helps with answering ...</td>\n",
       "      <td>Die Firma EUBIA GmbH ist ein deutscher Fortbil...</td>\n",
       "    </tr>\n",
       "    <tr>\n",
       "      <th>3</th>\n",
       "      <td>\\nYou are a chatbot that helps with answering ...</td>\n",
       "      <td>Die Firma EUBIA GmbH ist ein deutscher Fortbil...</td>\n",
       "    </tr>\n",
       "  </tbody>\n",
       "</table>\n",
       "</div>"
      ],
      "text/plain": [
       "                                          user_input  \\\n",
       "0  \\nYou are a chatbot that helps with answering ...   \n",
       "1  \\nYou are a chatbot that helps with answering ...   \n",
       "2  \\nYou are a chatbot that helps with answering ...   \n",
       "3  \\nYou are a chatbot that helps with answering ...   \n",
       "\n",
       "                                            response  \n",
       "0  Die Firma EUBIA GmbH ist ein deutscher Fortbil...  \n",
       "1  Die Firma EUBIA GmbH ist ein deutscher Fortbil...  \n",
       "2  Die Firma EUBIA GmbH ist ein deutscher Fortbil...  \n",
       "3  Die Firma EUBIA GmbH ist ein deutscher Fortbil...  "
      ]
     },
     "execution_count": 26,
     "metadata": {},
     "output_type": "execute_result"
    }
   ],
   "source": [
    "dataset.to_pandas()\n"
   ]
  },
  {
   "cell_type": "code",
   "execution_count": null,
   "metadata": {},
   "outputs": [],
   "source": []
  }
 ],
 "metadata": {
  "kernelspec": {
   "display_name": ".venv",
   "language": "python",
   "name": "python3"
  },
  "language_info": {
   "codemirror_mode": {
    "name": "ipython",
    "version": 3
   },
   "file_extension": ".py",
   "mimetype": "text/x-python",
   "name": "python",
   "nbconvert_exporter": "python",
   "pygments_lexer": "ipython3",
   "version": "3.11.2"
  }
 },
 "nbformat": 4,
 "nbformat_minor": 2
}
